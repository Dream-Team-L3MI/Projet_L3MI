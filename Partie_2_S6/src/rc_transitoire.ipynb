{
 "cells": [
  {
   "cell_type": "code",
   "id": "initial_id",
   "metadata": {
    "collapsed": true,
    "ExecuteTime": {
     "end_time": "2025-05-13T08:29:23.048845Z",
     "start_time": "2025-05-13T08:29:23.046350Z"
    }
   },
   "source": [
    "import csv\n",
    "import numpy as np\n",
    "import matplotlib.pyplot as plt\n",
    "from PySpice.Spice.Netlist import Circuit\n",
    "from PySpice.Unit import u_V, u_Ohm, u_F, u_ns, u_ms, u_s"
   ],
   "outputs": [],
   "execution_count": 17
  },
  {
   "metadata": {
    "ExecuteTime": {
     "end_time": "2025-05-13T08:29:04.233567Z",
     "start_time": "2025-05-13T08:29:04.229969Z"
    }
   },
   "cell_type": "code",
   "source": [
    "def simulate_rc_transient(R_value, C_value, V_in):\n",
    "    \"\"\"\n",
    "    Simule la réponse transitoire d'un circuit RC à une excitation en échelon.\n",
    "    Retourne les instants, la tension d'entrée, la tension de sortie (Vout),\n",
    "    la tension sur la résistance (V_R) et sur le condensateur (V_C).\n",
    "    \"\"\"\n",
    "    circuit = Circuit('RC Transient')\n",
    "    circuit.PulseVoltageSource('input', 'vin', circuit.gnd,\n",
    "                           initial_value=0@u_V, pulsed_value=V_in@u_V,\n",
    "                           delay_time=0@u_s, rise_time=1@u_ns,\n",
    "                           fall_time=1@u_ns, pulse_width=1@u_s, period=2@u_s)\n",
    "    circuit.R(1, 'vin', 'vout', R_value @ u_Ohm)\n",
    "    circuit.C(1, 'vout', circuit.gnd, C_value @ u_F)\n",
    "\n",
    "    simulator = circuit.simulator(temperature=25, nominal_temperature=25)\n",
    "\n",
    "    end = 5*R_value*C_value\n",
    "    step = end/100\n",
    "    analysis = simulator.transient(step_time=step, end_time=end)\n",
    "\n",
    "    time = np.array([float(t) for t in analysis.time])\n",
    "    v_in_obs = np.array([float(analysis['vin'][i]) for i in range(len(time))])\n",
    "    v_out_obs = np.array([float(analysis['vout'][i]) for i in range(len(time))])\n",
    "\n",
    "    return time, v_in_obs, v_out_obs"
   ],
   "id": "2f5ae401d921c94c",
   "outputs": [],
   "execution_count": 14
  },
  {
   "metadata": {
    "ExecuteTime": {
     "end_time": "2025-05-13T08:29:06.233765Z",
     "start_time": "2025-05-13T08:29:06.230905Z"
    }
   },
   "cell_type": "code",
   "source": [
    "r_values = np.linspace(1e3, 22e3, 22)\n",
    "c_values = np.linspace(1e-8, 2e-6, 22)\n",
    "v_in = np.linspace(1, 22, 22)"
   ],
   "id": "d68db13f8a2ee9ea",
   "outputs": [],
   "execution_count": 15
  },
  {
   "metadata": {
    "ExecuteTime": {
     "end_time": "2025-05-13T08:44:08.273307Z",
     "start_time": "2025-05-13T08:43:55.721245Z"
    }
   },
   "cell_type": "code",
   "source": [
    "open(\"rc_dataset_transient_complet.csv\", \"w\").close()\n",
    "\n",
    "with open(\"rc_dataset_transient_complet.csv\", \"w\", newline='') as file:\n",
    "    fieldnames = ['R', 'C', 'Time', 'Vin', 'Vout']\n",
    "    writer = csv.DictWriter(file, fieldnames=fieldnames)\n",
    "    writer.writeheader()\n",
    "\n",
    "    for R in r_values:\n",
    "        for C in c_values:\n",
    "            for V in v_in:\n",
    "                t_BD, v_in_BD, v_out_BD = simulate_rc_transient(R, C, V)\n",
    "                for t, vin, vout in zip(t_BD, v_in_BD, v_out_BD):\n",
    "                    # Calcul analytique\n",
    "                    vout_theo = vin * (1 - np.exp(-t / (R * C)))\n",
    "\n",
    "                    # Vérification (exemple de seuil à 10%)\n",
    "                    if abs(vout - vout_theo) > 0.01 * V:\n",
    "                        print(f\"Simulation : R={R}, C={C}, Vin={V}, t={t:.4e}\")\n",
    "                        print(f\"  Vin simulé = {vin:.4f}\")\n",
    "                        print(f\"  Vout simulé = {vout:.4f}, Vout théorique = {vout_theo:.4f}\")\n",
    "                    writer.writerow({\n",
    "                        'R': R,\n",
    "                        'C': C,\n",
    "                        'Time': t,\n",
    "                        'Vin': vin,\n",
    "                        'Vout': vout\n",
    "                    })\n",
    "\n",
    "print(sum(1 for _ in open(\"rc_dataset_transient_complet.csv\")) - 1)"
   ],
   "id": "740513e5d71eab9d",
   "outputs": [
    {
     "name": "stdout",
     "output_type": "stream",
     "text": [
      "1394606\n"
     ]
    }
   ],
   "execution_count": 22
  }
 ],
 "metadata": {
  "kernelspec": {
   "display_name": "Python 3",
   "language": "python",
   "name": "python3"
  },
  "language_info": {
   "codemirror_mode": {
    "name": "ipython",
    "version": 2
   },
   "file_extension": ".py",
   "mimetype": "text/x-python",
   "name": "python",
   "nbconvert_exporter": "python",
   "pygments_lexer": "ipython2",
   "version": "2.7.6"
  }
 },
 "nbformat": 4,
 "nbformat_minor": 5
}
