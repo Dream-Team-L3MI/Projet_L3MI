{
 "cells": [
  {
   "cell_type": "markdown",
   "id": "491bddd5",
   "metadata": {},
   "source": [
    "Import des bibliothèques python :"
   ]
  },
  {
   "cell_type": "code",
   "execution_count": null,
   "id": "bd43dad0",
   "metadata": {},
   "outputs": [],
   "source": [
    "import torch \n",
    "import torch.nn as nn\n",
    "import torch.optim as optim\n",
    "import numpy as np\n",
    "import matplotlib.pyplot as plt\n",
    "import csv \n",
    "import pandas as pd\n",
    "from torch.utils.data import Dataset\n",
    "from sklearn.preprocessing import StandardScaler\n"
   ]
  },
  {
   "cell_type": "markdown",
   "id": "f9a3c751",
   "metadata": {},
   "source": []
  },
  {
   "cell_type": "code",
   "execution_count": null,
   "id": "0b764b76",
   "metadata": {},
   "outputs": [],
   "source": [
    "#1)Importation de pandas et lecture du fichier csv \n",
    "#on charge le fichier dtb.csv dans un dataframe(structure tabulaire) pandas \"df\"\n",
    "df = pd.read_csv(\"dtb.csv\")\n",
    "#puis on affiche son contenu \n",
    "print(df)\n",
    "#on affiche la dimension (nbr de lignes et de colonnes)\n",
    "print(df.shape)\n",
    "\n",
    "#2)Définir une class Dataset personnalisé \n",
    "#hérité de torch.utils.data.Dataset avec laquelle on peut créer un jeu de données \n",
    "class DtSet(Dataset):\n",
    "    #on initialise l'objet\n",
    "    def __init__(self, dataframe):\n",
    "        #on selectionne toutes les colonnes sauf la ddernière et on recupère leurs valeurs(tableau)\n",
    "        self.x = torch.tensor(dataframe.iloc[:, :-1].values, dtype=torch.float32)\n",
    "        #on va sélectionner seulemenet la derr colonne qui est souvent la cible \n",
    "        self.y = torch.tensor(dataframe.iloc[:, -1].values, dtype=torch.float32)\n",
    "\n",
    "    def __len__(self):\n",
    "        return len(self.x)\n",
    "    #ccette methode permet de recuperer un elem individuel à partir d'un dataset\n",
    "    #elle prend un indice en entrée et renvoie la paire x,y \n",
    "    def __getitem__(self, ind):\n",
    "        return self.x[ind], self.y[ind]\n",
    "#creation de l'instance    \n",
    "instance = DtSet(df)\n",
    "#dataloader est un utilitaire pytorch qui permet de faire des batches \n",
    "#avec l'objet , la taille du lot (3 par exemple) et shuffle true permet de melanger les données\n",
    "loader = torch.utils.data.DataLoader(instance, batch_size=3, shuffle=True)\n",
    "\n",
    "print(instance.x, \"\\n\",  instance.y)"
   ]
  },
  {
   "cell_type": "markdown",
   "id": "816f25ee",
   "metadata": {},
   "source": [
    "Mauvaise Normalisation des données (Z - score) (creation of noise)"
   ]
  },
  {
   "cell_type": "code",
   "execution_count": null,
   "id": "bf2445c9",
   "metadata": {},
   "outputs": [],
   "source": [
    "\n",
    "\n",
    "\"\"\"for X, Y in loader:\n",
    "    mean = X.mean()\n",
    "    std = X.std()\n",
    "    X = (X - mean) / std\"\"\"\n",
    "\n",
    "\n",
    "\n"
   ]
  },
  {
   "cell_type": "markdown",
   "id": "cd62367c",
   "metadata": {},
   "source": []
  },
  {
   "cell_type": "code",
   "execution_count": null,
   "id": "47571929",
   "metadata": {},
   "outputs": [],
   "source": [
    "# True normalisation (Z - score)\n",
    "#on extrait les  données  x,y,z du dataframe \n",
    "X = df[[\"X\", \"Y\", \"Z\"]].values #(input)\n",
    "#on extrait la colonne res qui est la cible dans ce cas (output)\n",
    "Y = df[[\"res\"]].values\n",
    "#on crée deux normalisateurs Z-score \n",
    "#la methode z-score va transformer chaque valeur selon x_norm= x−μ/σ \n",
    "scaler_x = StandardScaler()\n",
    "scaler_y = StandardScaler()\n",
    "#Transformation et conversion en tensors pytorch \n",
    "\"\"\"\n",
    "fit_transform : \n",
    "    fit calcule la moyenne et l'écart-type sur les données\n",
    "    transform applique la normalisation Z-score\n",
    "\"\"\"\n",
    "X_tensor = torch.tensor(scaler_x.fit_transform(X), dtype = torch.float32)\n",
    "Y_tensor = torch.tensor(scaler_y.fit_transform(Y), dtype = torch.float32)\n",
    "\n",
    "\n",
    "print(X_tensor, \"\\n\", Y_tensor)"
   ]
  },
  {
   "cell_type": "markdown",
   "id": "89730df8",
   "metadata": {},
   "source": []
  },
  {
   "cell_type": "code",
   "execution_count": null,
   "id": "8c4fbd8f",
   "metadata": {},
   "outputs": [],
   "source": [
    "class LinRegModel(nn.Module):\n",
    "    def __init__(self, in_features, out_features):\n",
    "        super().__init__()\n",
    "        self.linear = nn.Linear(in_features, 3),\n",
    "        self.linear = nn.Linear(3, 6),\n",
    "        self.linear = nn.Linear(6, 6),\n",
    "        self.linear = nn.Linear(6, 9),\n",
    "        self.linear = nn.Linear(9, 12),\n",
    "        self.linear = nn.Linear(12, 12),\n",
    "        self.linear = nn.Linear(12, 9),\n",
    "        self.linear = nn.Linear(9, 9),\n",
    "        self.linear = nn.Linear(9, 7),\n",
    "        self.linear = nn.Linear(7, 5),\n",
    "        self.linear = nn.Linear(5, 3),\n",
    "        self.linear = nn.Linear(3, 1)\n",
    "\n",
    "\n",
    "    def forward(self, x):\n",
    "        return self.linear(x)"
   ]
  },
  {
   "cell_type": "code",
   "execution_count": null,
   "id": "8d57211f",
   "metadata": {},
   "outputs": [],
   "source": [
    "in_features = 3 \n",
    "out_features = 1\n",
    "# régression linéaire simple\n",
    "model = LinRegModel(in_features, out_features)"
   ]
  },
  {
   "cell_type": "code",
   "execution_count": null,
   "id": "1d0c0fe0",
   "metadata": {},
   "outputs": [],
   "source": [
    "# Mean Squared Error comme fonction de perte\n",
    "criterion = nn.MSELoss()\n",
    "\n",
    "# Stochastic Gradient Descent (SGD) avec un learning rate de 0.1.\n",
    "\"\"\" \n",
    "model.parameters() récupère tous les poids (et biais) entraînables\n",
    "\"\"\"\n",
    "optimizer = optim.SGD(model.parameters(), lr = 0.1)\n"
   ]
  },
  {
   "cell_type": "markdown",
   "id": "dcd7f268",
   "metadata": {},
   "source": []
  },
  {
   "cell_type": "code",
   "execution_count": null,
   "id": "12b2a5a4",
   "metadata": {},
   "outputs": [],
   "source": [
    "nb_epochs = 100 # nombre d’itérations\n",
    "\n",
    "for i in range(nb_epochs):\n",
    "    # Propagation avant\n",
    "    \"\"\"\n",
    "    calcule de la sortie prédite en appliquant la régression linéaire.\n",
    "    \"\"\"\n",
    "    outputs = model(X_tensor) \n",
    "\n",
    "    # fonction de perte (loss)\n",
    "    # Compare les sorties prédites outputs avec les vraies valeurs Y_tensor.\n",
    "    loss = criterion(outputs, Y_tensor) \n",
    "\n",
    "    # Remise à zéro des gradients précédents pour éviter l'accumulation des gradients d’itérations précédentes.\n",
    "\n",
    "    optimizer.zero_grad()\n",
    "    loss.backward()\n",
    "    # Mise à jour des paramètres du modèle selon les gradients et la règle d’optimisation\n",
    "    optimizer.step()\n",
    "\n",
    "    print(f'Epoch [{i+ 1}], Loss: {loss.item():.9f}')\n",
    "\n"
   ]
  },
  {
   "cell_type": "markdown",
   "id": "52214003",
   "metadata": {},
   "source": []
  },
  {
   "cell_type": "code",
   "execution_count": null,
   "id": "91c1f83c",
   "metadata": {},
   "outputs": [],
   "source": [
    "\n",
    "new_x = np.array([[5223, 1, 2025]])\n",
    "\n",
    "scalar_test = StandardScaler()\n",
    "\n",
    "new_x_tensor = torch.tensor((new_x), dtype = torch.float32)\n",
    "\n",
    "model.eval() # Évite les effets indésirables si ton modèle avait des couches comme Dropout ou BatchNorm.\n",
    "\n",
    "with torch.no_grad(): # Évite de stocker les gradients (inutiles ici), donc plus rapide et moins de mémoire\n",
    "    prediction_norm = model(new_x_tensor)\n",
    "\n",
    "prediction_denorm = prediction_norm.item() \n",
    "\n",
    "print(f\"Predicted for X = {new_x}: {(prediction_denorm)}\")"
   ]
  }
 ],
 "metadata": {
  "kernelspec": {
   "display_name": "Python (venv)",
   "language": "python",
   "name": "venv"
  },
  "language_info": {
   "codemirror_mode": {
    "name": "ipython",
    "version": 3
   },
   "file_extension": ".py",
   "mimetype": "text/x-python",
   "name": "python",
   "nbconvert_exporter": "python",
   "pygments_lexer": "ipython3",
   "version": "3.12.3"
  }
 },
 "nbformat": 4,
 "nbformat_minor": 5
}
