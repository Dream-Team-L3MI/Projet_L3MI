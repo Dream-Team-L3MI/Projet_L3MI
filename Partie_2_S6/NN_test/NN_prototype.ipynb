{
 "cells": [
  {
   "cell_type": "code",
   "execution_count": 1,
   "id": "bd43dad0",
   "metadata": {},
   "outputs": [],
   "source": [
    "import torch \n",
    "import torch.nn as nn\n",
    "import torch.optim as optim\n",
    "import numpy as np\n",
    "import matplotlib.pyplot as plt\n",
    "import csv \n",
    "import pandas as pd\n",
    "from torch.utils.data import Dataset\n",
    "from sklearn.preprocessing import StandardScaler\n"
   ]
  },
  {
   "cell_type": "code",
   "execution_count": 2,
   "id": "0b764b76",
   "metadata": {},
   "outputs": [
    {
     "name": "stdout",
     "output_type": "stream",
     "text": [
      "     X   Y   Z  res\n",
      "0    1   2   3    1\n",
      "1    2   3   4    2\n",
      "2    3   2   1    3\n",
      "3    2   1   2    2\n",
      "4    5   1   1    5\n",
      "5    4   1   2    4\n",
      "6   10   1   0   10\n",
      "7   11   7   6   11\n",
      "8   15   9   8   15\n",
      "9   20   9   1   20\n",
      "10  13   3   3   13\n",
      "11   3   4   5    3\n",
      "12   5  13   3    5\n",
      "13  17  16  16   17\n",
      "(14, 4)\n",
      "tensor([[ 1.,  2.,  3.],\n",
      "        [ 2.,  3.,  4.],\n",
      "        [ 3.,  2.,  1.],\n",
      "        [ 2.,  1.,  2.],\n",
      "        [ 5.,  1.,  1.],\n",
      "        [ 4.,  1.,  2.],\n",
      "        [10.,  1.,  0.],\n",
      "        [11.,  7.,  6.],\n",
      "        [15.,  9.,  8.],\n",
      "        [20.,  9.,  1.],\n",
      "        [13.,  3.,  3.],\n",
      "        [ 3.,  4.,  5.],\n",
      "        [ 5., 13.,  3.],\n",
      "        [17., 16., 16.]]) \n",
      " tensor([ 1.,  2.,  3.,  2.,  5.,  4., 10., 11., 15., 20., 13.,  3.,  5., 17.])\n"
     ]
    }
   ],
   "source": [
    "df = pd.read_csv(\"dtb.csv\")\n",
    "print(df)\n",
    "print(df.shape)\n",
    "\n",
    "class DtSet(Dataset):\n",
    "    def __init__(self, dataframe):\n",
    "        self.x = torch.tensor(dataframe.iloc[:, :-1].values, dtype=torch.float32)\n",
    "        self.y = torch.tensor(dataframe.iloc[:, -1].values, dtype=torch.float32)\n",
    "\n",
    "    def __len__(self):\n",
    "        return len(self.x)\n",
    "    \n",
    "    def __getitem__(self, ind):\n",
    "        return self.x[ind], self.y[ind]\n",
    "    \n",
    "instance = DtSet(df)\n",
    "\n",
    "loader = torch.utils.data.DataLoader(instance, batch_size=3, shuffle=True)\n",
    "\n",
    "print(instance.x, \"\\n\",  instance.y)"
   ]
  },
  {
   "cell_type": "code",
   "execution_count": 3,
   "id": "bf2445c9",
   "metadata": {},
   "outputs": [
    {
     "data": {
      "text/plain": [
       "'for X, Y in loader:\\n    mean = X.mean()\\n    std = X.std()\\n    X = (X - mean) / std'"
      ]
     },
     "execution_count": 3,
     "metadata": {},
     "output_type": "execute_result"
    }
   ],
   "source": [
    "#   MAUVAISE Normalisation des données (Z - score) (creation of noise)\n",
    "\n",
    "\"\"\"for X, Y in loader:\n",
    "    mean = X.mean()\n",
    "    std = X.std()\n",
    "    X = (X - mean) / std\"\"\"\n",
    "\n",
    "\n",
    "\n"
   ]
  },
  {
   "cell_type": "code",
   "execution_count": 4,
   "id": "47571929",
   "metadata": {},
   "outputs": [
    {
     "name": "stdout",
     "output_type": "stream",
     "text": [
      "tensor([[-1.1402, -0.6661, -0.2348],\n",
      "        [-0.9757, -0.4541,  0.0181],\n",
      "        [-0.8111, -0.6661, -0.7406],\n",
      "        [-0.9757, -0.8780, -0.4877],\n",
      "        [-0.4820, -0.8780, -0.7406],\n",
      "        [-0.6465, -0.8780, -0.4877],\n",
      "        [ 0.3409, -0.8780, -0.9935],\n",
      "        [ 0.5055,  0.3936,  0.5238],\n",
      "        [ 1.1637,  0.8174,  1.0296],\n",
      "        [ 1.9866,  0.8174, -0.7406],\n",
      "        [ 0.8346, -0.4541, -0.2348],\n",
      "        [-0.8111, -0.2422,  0.2709],\n",
      "        [-0.4820,  1.6651, -0.2348],\n",
      "        [ 1.4929,  2.3009,  3.0526]]) \n",
      " tensor([[-1.1402],\n",
      "        [-0.9757],\n",
      "        [-0.8111],\n",
      "        [-0.9757],\n",
      "        [-0.4820],\n",
      "        [-0.6465],\n",
      "        [ 0.3409],\n",
      "        [ 0.5055],\n",
      "        [ 1.1637],\n",
      "        [ 1.9866],\n",
      "        [ 0.8346],\n",
      "        [-0.8111],\n",
      "        [-0.4820],\n",
      "        [ 1.4929]])\n"
     ]
    }
   ],
   "source": [
    "# True normalisation (Z - score)\n",
    "X = df[[\"X\", \"Y\", \"Z\"]].values\n",
    "Y = df[[\"res\"]].values\n",
    "\n",
    "scaler_x = StandardScaler()\n",
    "scaler_y = StandardScaler()\n",
    "X_tensor = torch.tensor(scaler_x.fit_transform(X), dtype = torch.float32)\n",
    "Y_tensor = torch.tensor(scaler_y.fit_transform(Y), dtype = torch.float32)\n",
    "\n",
    "\n",
    "print(X_tensor, \"\\n\", Y_tensor)"
   ]
  },
  {
   "cell_type": "code",
   "execution_count": 5,
   "id": "8c4fbd8f",
   "metadata": {},
   "outputs": [],
   "source": [
    "class LinRegModel(nn.Module):\n",
    "    def __init__(self, in_features, out_features):\n",
    "        super().__init__()\n",
    "        self.linear = nn.Linear(in_features, 3),\n",
    "        self.linear = nn.Linear(3, 6),\n",
    "        self.linear = nn.Linear(6, 6),\n",
    "        self.linear = nn.Linear(6, 9),\n",
    "        self.linear = nn.Linear(9, 12),\n",
    "        self.linear = nn.Linear(12, 12),\n",
    "        self.linear = nn.Linear(12, 9),\n",
    "        self.linear = nn.Linear(9, 9),\n",
    "        self.linear = nn.Linear(9, 7),\n",
    "        self.linear = nn.Linear(7, 5),\n",
    "        self.linear = nn.Linear(5, 3),\n",
    "        self.linear = nn.Linear(3, 1)\n",
    "\n",
    "\n",
    "    def forward(self, x):\n",
    "        return self.linear(x)"
   ]
  },
  {
   "cell_type": "code",
   "execution_count": 6,
   "id": "8d57211f",
   "metadata": {},
   "outputs": [],
   "source": [
    "in_features = 3\n",
    "out_features = 1\n",
    "model = LinRegModel(in_features, out_features)"
   ]
  },
  {
   "cell_type": "code",
   "execution_count": 7,
   "id": "1d0c0fe0",
   "metadata": {},
   "outputs": [],
   "source": [
    "criterion = nn.MSELoss()\n",
    "optimizer = optim.SGD(model.parameters(), lr = 0.1)\n"
   ]
  },
  {
   "cell_type": "code",
   "execution_count": 8,
   "id": "12b2a5a4",
   "metadata": {},
   "outputs": [
    {
     "name": "stdout",
     "output_type": "stream",
     "text": [
      "Epoch [1], Loss: 0.480779469\n",
      "Epoch [2], Loss: 0.291058570\n",
      "Epoch [3], Loss: 0.202426270\n",
      "Epoch [4], Loss: 0.152074233\n",
      "Epoch [5], Loss: 0.118646644\n",
      "Epoch [6], Loss: 0.094297275\n",
      "Epoch [7], Loss: 0.075718120\n",
      "Epoch [8], Loss: 0.061227698\n",
      "Epoch [9], Loss: 0.049802382\n",
      "Epoch [10], Loss: 0.040736280\n",
      "Epoch [11], Loss: 0.033508513\n",
      "Epoch [12], Loss: 0.027722200\n",
      "Epoch [13], Loss: 0.023070483\n",
      "Epoch [14], Loss: 0.019314485\n",
      "Epoch [15], Loss: 0.016267585\n",
      "Epoch [16], Loss: 0.013783648\n",
      "Epoch [17], Loss: 0.011748016\n",
      "Epoch [18], Loss: 0.010070586\n",
      "Epoch [19], Loss: 0.008680413\n",
      "Epoch [20], Loss: 0.007521521\n",
      "Epoch [21], Loss: 0.006549647\n",
      "Epoch [22], Loss: 0.005729709\n",
      "Epoch [23], Loss: 0.005033827\n",
      "Epoch [24], Loss: 0.004439768\n",
      "Epoch [25], Loss: 0.003929747\n",
      "Epoch [26], Loss: 0.003489494\n",
      "Epoch [27], Loss: 0.003107487\n",
      "Epoch [28], Loss: 0.002774417\n",
      "Epoch [29], Loss: 0.002482694\n",
      "Epoch [30], Loss: 0.002226122\n",
      "Epoch [31], Loss: 0.001999605\n",
      "Epoch [32], Loss: 0.001798930\n",
      "Epoch [33], Loss: 0.001620589\n",
      "Epoch [34], Loss: 0.001461660\n",
      "Epoch [35], Loss: 0.001319672\n",
      "Epoch [36], Loss: 0.001192543\n",
      "Epoch [37], Loss: 0.001078495\n",
      "Epoch [38], Loss: 0.000976009\n",
      "Epoch [39], Loss: 0.000883770\n",
      "Epoch [40], Loss: 0.000800648\n",
      "Epoch [41], Loss: 0.000725657\n",
      "Epoch [42], Loss: 0.000657933\n",
      "Epoch [43], Loss: 0.000596721\n",
      "Epoch [44], Loss: 0.000541350\n",
      "Epoch [45], Loss: 0.000491235\n",
      "Epoch [46], Loss: 0.000445849\n",
      "Epoch [47], Loss: 0.000404726\n",
      "Epoch [48], Loss: 0.000367451\n",
      "Epoch [49], Loss: 0.000333651\n",
      "Epoch [50], Loss: 0.000302995\n",
      "Epoch [51], Loss: 0.000275180\n",
      "Epoch [52], Loss: 0.000249940\n",
      "Epoch [53], Loss: 0.000227031\n",
      "Epoch [54], Loss: 0.000206233\n",
      "Epoch [55], Loss: 0.000187350\n",
      "Epoch [56], Loss: 0.000170203\n",
      "Epoch [57], Loss: 0.000154632\n",
      "Epoch [58], Loss: 0.000140490\n",
      "Epoch [59], Loss: 0.000127644\n",
      "Epoch [60], Loss: 0.000115977\n",
      "Epoch [61], Loss: 0.000105377\n",
      "Epoch [62], Loss: 0.000095748\n",
      "Epoch [63], Loss: 0.000087000\n",
      "Epoch [64], Loss: 0.000079053\n",
      "Epoch [65], Loss: 0.000071832\n",
      "Epoch [66], Loss: 0.000065271\n",
      "Epoch [67], Loss: 0.000059310\n",
      "Epoch [68], Loss: 0.000053894\n",
      "Epoch [69], Loss: 0.000048972\n",
      "Epoch [70], Loss: 0.000044501\n",
      "Epoch [71], Loss: 0.000040438\n",
      "Epoch [72], Loss: 0.000036745\n",
      "Epoch [73], Loss: 0.000033391\n",
      "Epoch [74], Loss: 0.000030342\n",
      "Epoch [75], Loss: 0.000027572\n",
      "Epoch [76], Loss: 0.000025055\n",
      "Epoch [77], Loss: 0.000022767\n",
      "Epoch [78], Loss: 0.000020689\n",
      "Epoch [79], Loss: 0.000018800\n",
      "Epoch [80], Loss: 0.000017084\n",
      "Epoch [81], Loss: 0.000015525\n",
      "Epoch [82], Loss: 0.000014107\n",
      "Epoch [83], Loss: 0.000012820\n",
      "Epoch [84], Loss: 0.000011649\n",
      "Epoch [85], Loss: 0.000010586\n",
      "Epoch [86], Loss: 0.000009620\n",
      "Epoch [87], Loss: 0.000008741\n",
      "Epoch [88], Loss: 0.000007943\n",
      "Epoch [89], Loss: 0.000007218\n",
      "Epoch [90], Loss: 0.000006559\n",
      "Epoch [91], Loss: 0.000005961\n",
      "Epoch [92], Loss: 0.000005416\n",
      "Epoch [93], Loss: 0.000004922\n",
      "Epoch [94], Loss: 0.000004473\n",
      "Epoch [95], Loss: 0.000004065\n",
      "Epoch [96], Loss: 0.000003694\n",
      "Epoch [97], Loss: 0.000003356\n",
      "Epoch [98], Loss: 0.000003050\n",
      "Epoch [99], Loss: 0.000002772\n",
      "Epoch [100], Loss: 0.000002519\n"
     ]
    }
   ],
   "source": [
    "nb_epochs = 100\n",
    "\n",
    "for i in range(nb_epochs):\n",
    "    outputs = model(X_tensor)\n",
    "    loss = criterion(outputs, Y_tensor)\n",
    "\n",
    "    optimizer.zero_grad()\n",
    "    loss.backward()\n",
    "    optimizer.step()\n",
    "\n",
    "    print(f'Epoch [{i+ 1}], Loss: {loss.item():.9f}')\n",
    "\n"
   ]
  },
  {
   "cell_type": "code",
   "execution_count": null,
   "id": "91c1f83c",
   "metadata": {},
   "outputs": [
    {
     "name": "stdout",
     "output_type": "stream",
     "text": [
      "Predicted for X = [[5223    1 2025]]: 5214.49560546875\n"
     ]
    }
   ],
   "source": [
    "\n",
    "new_x = np.array([[5223, 1, 2025]])\n",
    "scalar_test = StandardScaler()\n",
    "new_x_tensor = torch.tensor((new_x), dtype = torch.float32)\n",
    "\n",
    "model.eval()\n",
    "with torch.no_grad():\n",
    "    prediction_norm = model(new_x_tensor)\n",
    "\n",
    "prediction_denorm = prediction_norm.item() \n",
    "\n",
    "print(f\"Predicted for X = {new_x}: {(prediction_denorm)}\")f"
   ]
  }
 ],
 "metadata": {
  "kernelspec": {
   "display_name": "base",
   "language": "python",
   "name": "python3"
  },
  "language_info": {
   "codemirror_mode": {
    "name": "ipython",
    "version": 3
   },
   "file_extension": ".py",
   "mimetype": "text/x-python",
   "name": "python",
   "nbconvert_exporter": "python",
   "pygments_lexer": "ipython3",
   "version": "3.10.13"
  }
 },
 "nbformat": 4,
 "nbformat_minor": 5
}
