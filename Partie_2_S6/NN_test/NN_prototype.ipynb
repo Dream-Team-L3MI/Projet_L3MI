{
 "cells": [
  {
   "cell_type": "markdown",
   "id": "491bddd5",
   "metadata": {},
   "source": [
    "Import des bibliothèques python :"
   ]
  },
  {
   "cell_type": "code",
   "execution_count": null,
   "id": "bd43dad0",
   "metadata": {},
   "outputs": [],
   "source": [
    "import torch \n",
    "import torch.nn as nn\n",
    "import torch.optim as optim\n",
    "import numpy as np\n",
    "import matplotlib.pyplot as plt\n",
    "import csv \n",
    "import pandas as pd\n",
    "from torch.utils.data import Dataset\n",
    "from sklearn.preprocessing import StandardScaler\n"
   ]
  },
  {
   "cell_type": "markdown",
   "id": "f9a3c751",
   "metadata": {},
   "source": []
  },
  {
   "cell_type": "code",
   "execution_count": null,
   "id": "0b764b76",
   "metadata": {},
   "outputs": [],
   "source": [
    "df = pd.read_csv(\"dtb.csv\")\n",
    "print(df)\n",
    "print(df.shape)\n",
    "\n",
    "class DtSet(Dataset):\n",
    "    def __init__(self, dataframe):\n",
    "        self.x = torch.tensor(dataframe.iloc[:, :-1].values, dtype=torch.float32)\n",
    "        self.y = torch.tensor(dataframe.iloc[:, -1].values, dtype=torch.float32)\n",
    "\n",
    "    def __len__(self):\n",
    "        return len(self.x)\n",
    "    \n",
    "    def __getitem__(self, ind):\n",
    "        return self.x[ind], self.y[ind]\n",
    "    \n",
    "instance = DtSet(df)\n",
    "\n",
    "loader = torch.utils.data.DataLoader(instance, batch_size=3, shuffle=True)\n",
    "\n",
    "print(instance.x, \"\\n\",  instance.y)"
   ]
  },
  {
   "cell_type": "markdown",
   "id": "19ac9545",
   "metadata": {},
   "source": []
  },
  {
   "cell_type": "code",
   "execution_count": null,
   "id": "bf2445c9",
   "metadata": {},
   "outputs": [],
   "source": [
    "#   MAUVAISE Normalisation des données (Z - score) (creation of noise)\n",
    "\n",
    "\"\"\"for X, Y in loader:\n",
    "    mean = X.mean()\n",
    "    std = X.std()\n",
    "    X = (X - mean) / std\"\"\"\n",
    "\n",
    "\n",
    "\n"
   ]
  },
  {
   "cell_type": "markdown",
   "id": "cd62367c",
   "metadata": {},
   "source": []
  },
  {
   "cell_type": "code",
   "execution_count": null,
   "id": "47571929",
   "metadata": {},
   "outputs": [],
   "source": [
    "# True normalisation (Z - score)\n",
    "X = df[[\"X\", \"Y\", \"Z\"]].values\n",
    "Y = df[[\"res\"]].values\n",
    "\n",
    "scaler_x = StandardScaler()\n",
    "scaler_y = StandardScaler()\n",
    "X_tensor = torch.tensor(scaler_x.fit_transform(X), dtype = torch.float32)\n",
    "Y_tensor = torch.tensor(scaler_y.fit_transform(Y), dtype = torch.float32)\n",
    "\n",
    "\n",
    "print(X_tensor, \"\\n\", Y_tensor)"
   ]
  },
  {
   "cell_type": "markdown",
   "id": "89730df8",
   "metadata": {},
   "source": []
  },
  {
   "cell_type": "code",
   "execution_count": null,
   "id": "8c4fbd8f",
   "metadata": {},
   "outputs": [],
   "source": [
    "class LinRegModel(nn.Module):\n",
    "    def __init__(self, in_features, out_features):\n",
    "        super().__init__()\n",
    "        self.linear = nn.Linear(in_features, 3),\n",
    "        self.linear = nn.Linear(3, 6),\n",
    "        self.linear = nn.Linear(6, 6),\n",
    "        self.linear = nn.Linear(6, 9),\n",
    "        self.linear = nn.Linear(9, 12),\n",
    "        self.linear = nn.Linear(12, 12),\n",
    "        self.linear = nn.Linear(12, 9),\n",
    "        self.linear = nn.Linear(9, 9),\n",
    "        self.linear = nn.Linear(9, 7),\n",
    "        self.linear = nn.Linear(7, 5),\n",
    "        self.linear = nn.Linear(5, 3),\n",
    "        self.linear = nn.Linear(3, 1)\n",
    "\n",
    "\n",
    "    def forward(self, x):\n",
    "        return self.linear(x)"
   ]
  },
  {
   "cell_type": "code",
   "execution_count": null,
   "id": "8d57211f",
   "metadata": {},
   "outputs": [],
   "source": [
    "in_features = 3\n",
    "out_features = 1\n",
    "model = LinRegModel(in_features, out_features)"
   ]
  },
  {
   "cell_type": "code",
   "execution_count": null,
   "id": "1d0c0fe0",
   "metadata": {},
   "outputs": [],
   "source": [
    "criterion = nn.MSELoss()\n",
    "optimizer = optim.SGD(model.parameters(), lr = 0.1)\n"
   ]
  },
  {
   "cell_type": "markdown",
   "id": "dcd7f268",
   "metadata": {},
   "source": []
  },
  {
   "cell_type": "code",
   "execution_count": null,
   "id": "12b2a5a4",
   "metadata": {},
   "outputs": [],
   "source": [
    "nb_epochs = 100\n",
    "\n",
    "for i in range(nb_epochs):\n",
    "    outputs = model(X_tensor)\n",
    "    loss = criterion(outputs, Y_tensor)\n",
    "\n",
    "    optimizer.zero_grad()\n",
    "    loss.backward()\n",
    "    optimizer.step()\n",
    "\n",
    "    print(f'Epoch [{i+ 1}], Loss: {loss.item():.9f}')\n",
    "\n"
   ]
  },
  {
   "cell_type": "markdown",
   "id": "52214003",
   "metadata": {},
   "source": []
  },
  {
   "cell_type": "code",
   "execution_count": null,
   "id": "91c1f83c",
   "metadata": {},
   "outputs": [],
   "source": [
    "\n",
    "new_x = np.array([[5223, 1, 2025]])\n",
    "scalar_test = StandardScaler()\n",
    "new_x_tensor = torch.tensor((new_x), dtype = torch.float32)\n",
    "\n",
    "model.eval()\n",
    "with torch.no_grad():\n",
    "    prediction_norm = model(new_x_tensor)\n",
    "\n",
    "prediction_denorm = prediction_norm.item() \n",
    "\n",
    "print(f\"Predicted for X = {new_x}: {(prediction_denorm)}\")s"
   ]
  }
 ],
 "metadata": {
  "kernelspec": {
   "display_name": "Python (venv)",
   "language": "python",
   "name": "venv"
  },
  "language_info": {
   "codemirror_mode": {
    "name": "ipython",
    "version": 3
   },
   "file_extension": ".py",
   "mimetype": "text/x-python",
   "name": "python",
   "nbconvert_exporter": "python",
   "pygments_lexer": "ipython3",
   "version": "3.12.3"
  }
 },
 "nbformat": 4,
 "nbformat_minor": 5
}
