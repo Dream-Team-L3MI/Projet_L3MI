{
 "cells": [
  {
   "cell_type": "code",
   "execution_count": 18,
   "id": "850242b1",
   "metadata": {},
   "outputs": [],
   "source": [
    "import torch \n",
    "import torch.nn as nn\n",
    "import torch.optim as optim\n",
    "import torch.nn.functional as F\n",
    "\n",
    "import numpy as np\n",
    "import matplotlib.pyplot as plt\n",
    "import csv \n",
    "import pandas as pd\n",
    "from torch.utils.data import TensorDataset, DataLoader\n",
    "from sklearn.preprocessing import StandardScaler\n"
   ]
  },
  {
   "cell_type": "code",
   "execution_count": 19,
   "id": "cf1a40f0",
   "metadata": {},
   "outputs": [
    {
     "name": "stdout",
     "output_type": "stream",
     "text": [
      "(2000, 6)\n"
     ]
    }
   ],
   "source": [
    "df = pd.read_csv(\"rc_dataset_2000.csv\")\n",
    "#print(df)\n",
    "print(df.shape)"
   ]
  },
  {
   "cell_type": "code",
   "execution_count": 47,
   "id": "9076d2ee",
   "metadata": {},
   "outputs": [
    {
     "name": "stdout",
     "output_type": "stream",
     "text": [
      "tensor([[-0.8704,  0.1741, -1.6475],\n",
      "        [-0.8704,  0.1741, -1.4741],\n",
      "        [-0.8704,  0.1741, -1.3007],\n",
      "        ...,\n",
      "        [ 1.5667,  1.5667,  1.3007],\n",
      "        [ 1.5667,  1.5667,  1.4741],\n",
      "        [ 1.5667,  1.5667,  1.6475]])\n",
      "tensor([[-1.6475, -0.1321, -1.6475],\n",
      "        [-1.4741, -0.1321, -1.4741],\n",
      "        [-1.3007, -0.1321, -1.3007],\n",
      "        ...,\n",
      "        [ 1.3007, -0.1321,  1.3007],\n",
      "        [ 1.4741,  3.6499,  1.4741],\n",
      "        [ 1.6475,  3.6499,  1.6475]])\n"
     ]
    }
   ],
   "source": [
    "\n",
    "\n",
    "X = df[[\"R\", \"C\", \"Vin\"]].values\n",
    "Y = df[[\"V_out\", \"V_R\", \"V_C\"]].values\n",
    "\n",
    "scaler_x = StandardScaler()\n",
    "scaler_y = StandardScaler()\n",
    "X_tensor = torch.tensor(scaler_x.fit_transform(X), dtype = torch.float32)\n",
    "Y_tensor = torch.tensor(scaler_y.fit_transform(Y), dtype = torch.float32)\n",
    "\n",
    "print(X_tensor)\n",
    "print(Y_tensor)\n",
    "\n",
    "dataset = TensorDataset(X_tensor, Y_tensor)\n",
    "\n",
    "loader = DataLoader(dataset, batch_size=32, shuffle=True)"
   ]
  },
  {
   "cell_type": "code",
   "execution_count": 48,
   "id": "a5bcb923",
   "metadata": {},
   "outputs": [],
   "source": [
    "class RegressionModel(nn.Module):\n",
    "    def __init__(self, in_features, out_features):\n",
    "        super().__init__()\n",
    "        self.fc1 = nn.Linear(in_features, 3)\n",
    "        self.fc2 = nn.Linear(3, 6)\n",
    "        self.fc3 = nn.Linear(6, 9)\n",
    "        self.fc4 = nn.Linear(9, 12)\n",
    "        self.fc5 = nn.Linear(12, 12)\n",
    "        self.fc6 = nn.Linear(12, 9)\n",
    "        self.fc7 = nn.Linear(9, 6)\n",
    "        self.fc8 = nn.Linear(6, 3)\n",
    "        \n",
    "\n",
    "\n",
    "    def forward(self, x):\n",
    "        x = F.relu(self.fc1(x))\n",
    "        x = F.relu(self.fc2(x))\n",
    "        x = F.relu(self.fc3(x))\n",
    "        x = F.relu(self.fc4(x))\n",
    "        x = F.relu(self.fc5(x))\n",
    "        x = F.relu(self.fc6(x))\n",
    "        x = F.relu(self.fc7(x))\n",
    "        x = self.fc8(x)  # No activation on output for regression\n",
    "        return x"
   ]
  },
  {
   "cell_type": "code",
   "execution_count": 49,
   "id": "d93afb57",
   "metadata": {},
   "outputs": [],
   "source": [
    "in_features = 3\n",
    "out_features = 3\n",
    "model = RegressionModel(in_features, out_features)\n",
    "\n",
    "criterion = nn.MSELoss()\n",
    "optimizer = optim.Adam(model.parameters(), lr = 0.01)\n"
   ]
  },
  {
   "cell_type": "code",
   "execution_count": 50,
   "id": "94986a01",
   "metadata": {},
   "outputs": [
    {
     "name": "stdout",
     "output_type": "stream",
     "text": [
      "Epoch [1], Loss: 0.082562603\n",
      "Epoch [2], Loss: 0.775973976\n",
      "Epoch [3], Loss: 0.232294157\n",
      "Epoch [4], Loss: 0.140482441\n",
      "Epoch [5], Loss: 0.321235061\n",
      "Epoch [6], Loss: 0.396956176\n",
      "Epoch [7], Loss: 0.104675435\n",
      "Epoch [8], Loss: 0.180279970\n",
      "Epoch [9], Loss: 0.336393982\n",
      "Epoch [10], Loss: 0.234092399\n",
      "Epoch [11], Loss: 0.434014231\n",
      "Epoch [12], Loss: 0.704813302\n",
      "Epoch [13], Loss: 0.391313434\n",
      "Epoch [14], Loss: 0.095412634\n",
      "Epoch [15], Loss: 0.635142386\n",
      "Epoch [16], Loss: 0.480720401\n",
      "Epoch [17], Loss: 0.018517617\n",
      "Epoch [18], Loss: 0.077687465\n",
      "Epoch [19], Loss: 0.101870805\n",
      "Epoch [20], Loss: 0.029790355\n",
      "Epoch [21], Loss: 0.359979182\n",
      "Epoch [22], Loss: 0.517319918\n",
      "Epoch [23], Loss: 0.086974569\n",
      "Epoch [24], Loss: 0.093557321\n",
      "Epoch [25], Loss: 0.415019661\n",
      "Epoch [26], Loss: 0.344673276\n",
      "Epoch [27], Loss: 0.310204476\n",
      "Epoch [28], Loss: 0.692131698\n",
      "Epoch [29], Loss: 0.269258738\n",
      "Epoch [30], Loss: 0.157022312\n",
      "Epoch [31], Loss: 0.163435861\n",
      "Epoch [32], Loss: 0.142388299\n",
      "Epoch [33], Loss: 0.332230479\n",
      "Epoch [34], Loss: 0.047449365\n",
      "Epoch [35], Loss: 0.575429678\n",
      "Epoch [36], Loss: 0.598156750\n",
      "Epoch [37], Loss: 0.025287675\n",
      "Epoch [38], Loss: 0.072650261\n",
      "Epoch [39], Loss: 0.291425288\n",
      "Epoch [40], Loss: 0.336119503\n",
      "Epoch [41], Loss: 0.427907616\n",
      "Epoch [42], Loss: 0.441664189\n",
      "Epoch [43], Loss: 0.031570967\n",
      "Epoch [44], Loss: 0.080154963\n",
      "Epoch [45], Loss: 0.446653008\n",
      "Epoch [46], Loss: 0.732385397\n",
      "Epoch [47], Loss: 0.275425255\n",
      "Epoch [48], Loss: 0.195448101\n",
      "Epoch [49], Loss: 0.206394389\n",
      "Epoch [50], Loss: 0.161006391\n"
     ]
    }
   ],
   "source": [
    "nb_epochs = 50\n",
    "\n",
    "for i in range(nb_epochs):\n",
    "    for X_batch, Y_batch in loader:\n",
    "        model.train()\n",
    "        outputs = model(X_batch)\n",
    "        loss = criterion(outputs, Y_batch)\n",
    "\n",
    "        optimizer.zero_grad()\n",
    "        loss.backward()\n",
    "        optimizer.step()\n",
    "\n",
    "    print(f'Epoch [{i+ 1}], Loss: {loss.item():.9f}')"
   ]
  },
  {
   "cell_type": "code",
   "execution_count": 51,
   "id": "3691c48d",
   "metadata": {},
   "outputs": [
    {
     "name": "stdout",
     "output_type": "stream",
     "text": [
      "Evaluation Loss: 0.242\n",
      "Inverse Predictions: \n",
      " [[ 1.24661729e-01 -2.01124234e-17  1.23355195e-01]\n",
      " [ 5.65551579e-01 -4.74017215e-18  5.64328492e-01]\n",
      " [ 1.04035974e+00  1.05326727e-17  1.03925061e+00]\n",
      " ...\n",
      " [ 8.34202290e+00  1.07026361e-15  8.34082317e+00]\n",
      " [ 9.26934719e+00  1.40407125e-15  9.26832390e+00]\n",
      " [ 9.92341900e+00  1.63951697e-15  9.92252064e+00]]\n"
     ]
    }
   ],
   "source": [
    "model.eval()\n",
    "\n",
    "# No gradient calculation during evaluation\n",
    "with torch.no_grad():\n",
    "    # Forward pass\n",
    "    predictions = model(X_tensor)  # Assuming X_tensor is your input data\n",
    "\n",
    "    # Calculate the loss (optional)\n",
    "    loss = criterion(predictions, Y_tensor)\n",
    "    print(f\"Evaluation Loss: {loss.item():.3f}\")\n",
    "\n",
    "    predictions_original = scaler_y.inverse_transform(predictions.numpy())\n",
    "\n",
    "    # Print the inverse transformed predictions\n",
    "    print(\"Inverse Predictions: \\n\", predictions_original)"
   ]
  }
 ],
 "metadata": {
  "kernelspec": {
   "display_name": "base",
   "language": "python",
   "name": "python3"
  },
  "language_info": {
   "codemirror_mode": {
    "name": "ipython",
    "version": 3
   },
   "file_extension": ".py",
   "mimetype": "text/x-python",
   "name": "python",
   "nbconvert_exporter": "python",
   "pygments_lexer": "ipython3",
   "version": "3.10.13"
  }
 },
 "nbformat": 4,
 "nbformat_minor": 5
}
