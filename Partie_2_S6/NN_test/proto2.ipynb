{
 "cells": [
  {
   "cell_type": "code",
   "execution_count": 1,
   "id": "850242b1",
   "metadata": {},
   "outputs": [],
   "source": [
    "import torch \n",
    "import torch.nn as nn\n",
    "import torch.optim as optim\n",
    "import torch.nn.functional as F\n",
    "\n",
    "import numpy as np\n",
    "import matplotlib.pyplot as plt\n",
    "import csv \n",
    "import pandas as pd\n",
    "from torch.utils.data import TensorDataset, DataLoader\n",
    "from sklearn.preprocessing import StandardScaler\n"
   ]
  },
  {
   "cell_type": "code",
   "execution_count": 2,
   "id": "cf1a40f0",
   "metadata": {},
   "outputs": [
    {
     "name": "stdout",
     "output_type": "stream",
     "text": [
      "(2000, 6)\n"
     ]
    }
   ],
   "source": [
    "df = pd.read_csv(\"rc_dataset_2000.csv\")\n",
    "#print(df)\n",
    "print(df.shape)"
   ]
  },
  {
   "cell_type": "code",
   "execution_count": 3,
   "id": "9076d2ee",
   "metadata": {},
   "outputs": [
    {
     "name": "stdout",
     "output_type": "stream",
     "text": [
      "tensor([[-0.8704,  0.1741, -1.6475],\n",
      "        [-0.8704,  0.1741, -1.4741],\n",
      "        [-0.8704,  0.1741, -1.3007],\n",
      "        ...,\n",
      "        [ 1.5667,  1.5667,  1.3007],\n",
      "        [ 1.5667,  1.5667,  1.4741],\n",
      "        [ 1.5667,  1.5667,  1.6475]])\n",
      "tensor([[-1.6475, -0.1321, -1.6475],\n",
      "        [-1.4741, -0.1321, -1.4741],\n",
      "        [-1.3007, -0.1321, -1.3007],\n",
      "        ...,\n",
      "        [ 1.3007, -0.1321,  1.3007],\n",
      "        [ 1.4741,  3.6499,  1.4741],\n",
      "        [ 1.6475,  3.6499,  1.6475]])\n"
     ]
    }
   ],
   "source": [
    "\n",
    "\n",
    "X = df[[\"R\", \"C\", \"Vin\"]].values\n",
    "Y = df[[\"V_out\", \"V_R\", \"V_C\"]].values\n",
    "\n",
    "scaler_x = StandardScaler()\n",
    "scaler_y = StandardScaler()\n",
    "X_tensor = torch.tensor(scaler_x.fit_transform(X), dtype = torch.float32)\n",
    "Y_tensor = torch.tensor(scaler_y.fit_transform(Y), dtype = torch.float32)\n",
    "\n",
    "print(X_tensor)\n",
    "print(Y_tensor)\n",
    "\n",
    "dataset = TensorDataset(X_tensor, Y_tensor)\n",
    "\n",
    "loader = DataLoader(dataset, batch_size=32, shuffle=True)"
   ]
  },
  {
   "cell_type": "code",
   "execution_count": 4,
   "id": "a5bcb923",
   "metadata": {},
   "outputs": [],
   "source": [
    "class RegressionModel(nn.Module):\n",
    "    def __init__(self, in_features, out_features):\n",
    "        super().__init__()\n",
    "        self.fc1 = nn.Linear(in_features, 3)\n",
    "        self.fc2 = nn.Linear(3, 6)\n",
    "        self.fc3 = nn.Linear(6, 9)\n",
    "        self.fc4 = nn.Linear(9, 12)\n",
    "        self.fc5 = nn.Linear(12, 12)\n",
    "        self.fc6 = nn.Linear(12, 9)\n",
    "        self.fc7 = nn.Linear(9, 6)\n",
    "        self.fc8 = nn.Linear(6, 3)\n",
    "        \n",
    "\n",
    "\n",
    "    def forward(self, x):\n",
    "        x = F.relu(self.fc1(x))\n",
    "        x = F.relu(self.fc2(x))\n",
    "        x = F.relu(self.fc3(x))\n",
    "        x = F.relu(self.fc4(x))\n",
    "        x = F.relu(self.fc5(x))\n",
    "        x = F.relu(self.fc6(x))\n",
    "        x = F.relu(self.fc7(x))\n",
    "        x = self.fc8(x)  # No activation on output for regression\n",
    "        return x"
   ]
  },
  {
   "cell_type": "code",
   "execution_count": 5,
   "id": "d93afb57",
   "metadata": {},
   "outputs": [],
   "source": [
    "in_features = 3\n",
    "out_features = 3\n",
    "model = RegressionModel(in_features, out_features)\n",
    "\n",
    "criterion = nn.MSELoss()\n",
    "optimizer = optim.Adam(model.parameters(), lr = 0.01)\n"
   ]
  },
  {
   "cell_type": "code",
   "execution_count": 6,
   "id": "94986a01",
   "metadata": {},
   "outputs": [
    {
     "name": "stdout",
     "output_type": "stream",
     "text": [
      "Epoch [1], Loss: 0.927008629\n",
      "Epoch [2], Loss: 0.405386925\n",
      "Epoch [3], Loss: 0.773813188\n",
      "Epoch [4], Loss: 0.157925740\n",
      "Epoch [5], Loss: 0.103821538\n",
      "Epoch [6], Loss: 0.422946662\n",
      "Epoch [7], Loss: 0.666316569\n",
      "Epoch [8], Loss: 0.270196408\n",
      "Epoch [9], Loss: 0.318131357\n",
      "Epoch [10], Loss: 0.166092798\n",
      "Epoch [11], Loss: 0.003387291\n",
      "Epoch [12], Loss: 0.102326907\n",
      "Epoch [13], Loss: 0.384280831\n",
      "Epoch [14], Loss: 0.318375707\n",
      "Epoch [15], Loss: 0.404432178\n",
      "Epoch [16], Loss: 0.245208308\n",
      "Epoch [17], Loss: 0.252480417\n",
      "Epoch [18], Loss: 0.352237582\n",
      "Epoch [19], Loss: 0.366103560\n",
      "Epoch [20], Loss: 0.618422091\n",
      "Epoch [21], Loss: 0.039476778\n",
      "Epoch [22], Loss: 0.176535785\n",
      "Epoch [23], Loss: 0.460493326\n",
      "Epoch [24], Loss: 0.753884256\n",
      "Epoch [25], Loss: 0.176457599\n",
      "Epoch [26], Loss: 0.473192602\n",
      "Epoch [27], Loss: 0.726606369\n",
      "Epoch [28], Loss: 0.192514598\n",
      "Epoch [29], Loss: 0.757202208\n",
      "Epoch [30], Loss: 0.210084006\n",
      "Epoch [31], Loss: 0.041676681\n",
      "Epoch [32], Loss: 0.154307872\n",
      "Epoch [33], Loss: 0.433687776\n",
      "Epoch [34], Loss: 0.276219815\n",
      "Epoch [35], Loss: 0.429154277\n",
      "Epoch [36], Loss: 0.154155299\n",
      "Epoch [37], Loss: 0.114342742\n",
      "Epoch [38], Loss: 0.536653101\n",
      "Epoch [39], Loss: 0.350150019\n",
      "Epoch [40], Loss: 0.146212474\n",
      "Epoch [41], Loss: 0.536091268\n",
      "Epoch [42], Loss: 0.220221266\n",
      "Epoch [43], Loss: 0.080368645\n",
      "Epoch [44], Loss: 0.035345014\n",
      "Epoch [45], Loss: 0.765039682\n",
      "Epoch [46], Loss: 0.099541515\n",
      "Epoch [47], Loss: 0.823666573\n",
      "Epoch [48], Loss: 0.303982466\n",
      "Epoch [49], Loss: 0.278723866\n",
      "Epoch [50], Loss: 0.258850396\n"
     ]
    }
   ],
   "source": [
    "nb_epochs = 50\n",
    "\n",
    "for i in range(nb_epochs):\n",
    "    for X_batch, Y_batch in loader:\n",
    "        model.train()\n",
    "        outputs = model(X_batch)\n",
    "        loss = criterion(outputs, Y_batch)\n",
    "\n",
    "        optimizer.zero_grad()\n",
    "        loss.backward()\n",
    "        optimizer.step()\n",
    "\n",
    "    print(f'Epoch [{i+ 1}], Loss: {loss.item():.9f}')"
   ]
  },
  {
   "cell_type": "code",
   "execution_count": 7,
   "id": "3691c48d",
   "metadata": {},
   "outputs": [
    {
     "name": "stdout",
     "output_type": "stream",
     "text": [
      "Evaluation Loss: 0.314\n",
      "Inverse Predictions: \n",
      " [[1.4955597e-01 2.9376697e-17 1.4734964e-01]\n",
      " [6.2461263e-01 2.4522011e-17 6.2271386e-01]\n",
      " [1.0996687e+00 1.9667324e-17 1.0980778e+00]\n",
      " ...\n",
      " [9.2499132e+00 3.8512960e-16 9.2525530e+00]\n",
      " [9.2503443e+00 3.8528532e-16 9.2529840e+00]\n",
      " [9.2501678e+00 3.8522153e-16 9.2528076e+00]]\n"
     ]
    }
   ],
   "source": [
    "model.eval()\n",
    "\n",
    "# No gradient calculation during evaluation\n",
    "with torch.no_grad():\n",
    "    # Forward pass\n",
    "    predictions = model(X_tensor)  # Assuming X_tensor is your input data\n",
    "\n",
    "    # Calculate the loss (optional)\n",
    "    loss = criterion(predictions, Y_tensor)\n",
    "    print(f\"Evaluation Loss: {loss.item():.3f}\")\n",
    "\n",
    "    predictions_original = scaler_y.inverse_transform(predictions.numpy())\n",
    "\n",
    "    # Print the inverse transformed predictions\n",
    "    print(\"Inverse Predictions: \\n\", predictions_original)"
   ]
  }
 ],
 "metadata": {
  "kernelspec": {
   "display_name": "base",
   "language": "python",
   "name": "python3"
  },
  "language_info": {
   "codemirror_mode": {
    "name": "ipython",
    "version": 3
   },
   "file_extension": ".py",
   "mimetype": "text/x-python",
   "name": "python",
   "nbconvert_exporter": "python",
   "pygments_lexer": "ipython3",
   "version": "3.10.13"
  }
 },
 "nbformat": 4,
 "nbformat_minor": 5
}
