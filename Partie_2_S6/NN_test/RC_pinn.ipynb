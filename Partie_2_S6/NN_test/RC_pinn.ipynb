{
 "cells": [
  {
   "cell_type": "markdown",
   "id": "8ad93954",
   "metadata": {},
   "source": [
    "# PINN for RC circuit with physics loss \n",
    "### Decomment 2nd block of code for consistent initialising seed\n",
    "### Network trained with dataset used ***without DataLoader***"
   ]
  },
  {
   "cell_type": "code",
   "execution_count": 81,
   "id": "850242b1",
   "metadata": {},
   "outputs": [],
   "source": [
    "import torch \n",
    "import torch.nn as nn\n",
    "import torch.optim as optim\n",
    "import torch.nn.functional as F\n",
    "import numpy as np\n",
    "import matplotlib.pyplot as plt\n",
    "import csv \n",
    "import pandas as pd\n",
    "from torch.utils.data import TensorDataset, DataLoader\n",
    "from sklearn.preprocessing import StandardScaler\n",
    "import random\n"
   ]
  },
  {
   "cell_type": "code",
   "execution_count": 82,
   "id": "f9c1553e",
   "metadata": {},
   "outputs": [
    {
     "data": {
      "text/plain": [
       "'def set_seed(seed=42):\\n    torch.manual_seed(seed)\\n    np.random.seed(seed)\\n    random.seed(seed)\\n\\n    # If using torch.backends (optional for CPU, more relevant for CUDA)\\n    if torch.backends.mps.is_available():\\n        torch.use_deterministic_algorithms(True)\\n\\nset_seed(42)'"
      ]
     },
     "execution_count": 82,
     "metadata": {},
     "output_type": "execute_result"
    }
   ],
   "source": [
    "# Initialise random seed for model weights and activations\n",
    "\n",
    "\"\"\"def set_seed(seed=42):\n",
    "    torch.manual_seed(seed)\n",
    "    np.random.seed(seed)\n",
    "    random.seed(seed)\n",
    "\n",
    "    # If using torch.backends (optional for CPU, more relevant for CUDA)\n",
    "    if torch.backends.mps.is_available():\n",
    "        torch.use_deterministic_algorithms(True)\n",
    "\n",
    "set_seed(42)\"\"\""
   ]
  },
  {
   "cell_type": "code",
   "execution_count": 83,
   "id": "cf1a40f0",
   "metadata": {},
   "outputs": [
    {
     "name": "stdout",
     "output_type": "stream",
     "text": [
      "(2000, 6)\n"
     ]
    }
   ],
   "source": [
    "df = pd.read_csv(\"rc_dataset_2000.csv\")\n",
    "#print(df)\n",
    "print(df.shape)"
   ]
  },
  {
   "cell_type": "code",
   "execution_count": 84,
   "id": "9076d2ee",
   "metadata": {},
   "outputs": [
    {
     "name": "stdout",
     "output_type": "stream",
     "text": [
      "tensor([-0.8704, -0.8704, -0.8704,  ...,  1.5667,  1.5667,  1.5667])\n",
      "tensor([0.1741, 0.1741, 0.1741,  ..., 1.5667, 1.5667, 1.5667])\n",
      "torch.Size([2000])\n"
     ]
    }
   ],
   "source": [
    "\n",
    "# Data normalisation\n",
    "\n",
    "X = df[[\"R\", \"C\", \"Vin\"]].values\n",
    "Y = df[[\"V_out\"]].values\n",
    "\n",
    "scaler_x = StandardScaler()\n",
    "scaler_y = StandardScaler()\n",
    "X_tensor = torch.tensor(scaler_x.fit_transform(X), dtype = torch.float32)\n",
    "Y_tensor = torch.tensor(scaler_y.fit_transform(Y), dtype = torch.float32)\n",
    "\n",
    "#print(X_tensor[:,0])\n",
    "#print(Y_tensor)\n",
    "\n",
    "dataset = TensorDataset(X_tensor, Y_tensor)\n",
    "\n",
    "loader = DataLoader(dataset, batch_size=64, shuffle=True)\n",
    "\n",
    "R = X_tensor[:,0]\n",
    "C = X_tensor[:,1]\n",
    "print(R)\n",
    "print(C)\n",
    "\n",
    "print((R*C).shape)"
   ]
  },
  {
   "cell_type": "code",
   "execution_count": 85,
   "id": "a5bcb923",
   "metadata": {},
   "outputs": [],
   "source": [
    "class RegressionModel(nn.Module):\n",
    "    def __init__(self, in_features, out_features):\n",
    "        super().__init__()\n",
    "        self.fc1 = nn.Linear(in_features, 8)\n",
    "        self.fc2 = nn.Linear(8, 16)\n",
    "        self.fc3 = nn.Linear(16, 64)\n",
    "        self.fc4 = nn.Linear(64, 32)\n",
    "        self.fc5 = nn.Linear(32, 8)\n",
    "        self.fc6 = nn.Linear(8, 1)\n",
    "        \n",
    "\n",
    "\n",
    "    def forward(self, x):\n",
    "        x = F.relu(self.fc1(x))\n",
    "        x = F.relu(self.fc2(x))\n",
    "        x = F.relu(self.fc3(x))\n",
    "        x = F.relu(self.fc4(x))\n",
    "        x = F.relu(self.fc5(x))\n",
    "        x = self.fc6(x)  # No activation on output for regression\n",
    "        return x"
   ]
  },
  {
   "cell_type": "code",
   "execution_count": 86,
   "id": "d93afb57",
   "metadata": {},
   "outputs": [],
   "source": [
    "in_features = 3\n",
    "out_features = 1\n",
    "\n",
    "\n",
    "model = RegressionModel(in_features, out_features)\n",
    "\n",
    "criterion = nn.MSELoss()\n",
    "optimizer = optim.Adam(model.parameters(), lr = 0.001)\n"
   ]
  },
  {
   "cell_type": "markdown",
   "id": "349dfdf8",
   "metadata": {},
   "source": [
    "## The differential equation that controls our physics loss \n",
    "\n",
    "## ⚙️ Differential Equation of an RC Circuit (Time Domain)\n",
    "\n",
    "The first-order differential equation for the voltage across a capacitor in an RC circuit is:\n",
    "\n",
    "$$\n",
    "u(t) + RC \\cdot \\frac{du(t)}{dt} = U\n",
    "$$\n",
    "\n",
    "Where:\n",
    "- \\( u(t) \\) is the output voltage (e.g. across the capacitor),\n",
    "- \\( R \\) is the resistance (Ω),\n",
    "- \\( C \\) is the capacitance (F),\n",
    "- \\( U \\) is the constant input voltage.\n",
    "\n",
    "This equation describes the dynamic response of the voltage in the circuit over time.\n"
   ]
  },
  {
   "cell_type": "code",
   "execution_count": 87,
   "id": "2dd3048f",
   "metadata": {},
   "outputs": [
    {
     "name": "stdout",
     "output_type": "stream",
     "text": [
      "tensor([ 1.2637,  1.0908,  0.9176,  ..., -1.6833, -1.8653, -2.0384],\n",
      "       grad_fn=<SubBackward0>)\n",
      "torch.Size([2000])\n"
     ]
    }
   ],
   "source": [
    "# Function to compute the PDE residual: \n",
    "\n",
    "def pde_residual(model, x):\n",
    "    # Make sure x is set to require gradients for derivative calculations.\n",
    "    x = x.clone().detach().requires_grad_(True)\n",
    "    u = model(x)\n",
    "    \n",
    "    # Compute the first derivative, du/dx.\n",
    "    u_x = (torch.autograd.grad(u, x, grad_outputs=torch.ones_like(u), create_graph=True)[0])[:,0]\n",
    "    \n",
    "    \"\"\"print(u_x.shape)\n",
    "    print(x.shape)\n",
    "    print(u[:,0].shape)\"\"\"\n",
    "\n",
    "    R = x[:, 0]\n",
    "    C = x[:, 1]\n",
    "    U = x[:, 2]\n",
    "\n",
    "    \"\"\"print(R.shape)\n",
    "    print(C.shape)\n",
    "    print(U.shape)\"\"\"\n",
    "    \n",
    "    residual = u[:,0] + R*C*u_x - U\n",
    "\n",
    "    return residual\n",
    "\n",
    "\n",
    "pde_test = pde_residual(model, X_tensor)\n",
    "print(pde_test)\n",
    "print(pde_test.shape)\n",
    "\n"
   ]
  },
  {
   "cell_type": "code",
   "execution_count": 88,
   "id": "94986a01",
   "metadata": {},
   "outputs": [
    {
     "name": "stdout",
     "output_type": "stream",
     "text": [
      "Epoch [1], Loss: 1.473524928\n",
      "Epoch [2], Loss: 1.728824139\n",
      "Epoch [3], Loss: 1.457635403\n",
      "Epoch [4], Loss: 0.096136995\n",
      "Epoch [5], Loss: 0.082965165\n",
      "Epoch [6], Loss: 0.061156802\n",
      "Epoch [7], Loss: 0.033285480\n",
      "Epoch [8], Loss: 0.028612603\n",
      "Epoch [9], Loss: 0.009784439\n",
      "Epoch [10], Loss: 0.015181413\n",
      "Epoch [11], Loss: 0.016867496\n",
      "Epoch [12], Loss: 0.009203443\n",
      "Epoch [13], Loss: 0.003105173\n",
      "Epoch [14], Loss: 0.005019379\n",
      "Epoch [15], Loss: 0.004860855\n",
      "Epoch [16], Loss: 0.001418535\n",
      "Epoch [17], Loss: 0.004310738\n",
      "Epoch [18], Loss: 0.003434995\n",
      "Epoch [19], Loss: 0.001706361\n",
      "Epoch [20], Loss: 0.002200737\n",
      "Epoch [21], Loss: 0.001278423\n",
      "Epoch [22], Loss: 0.001431418\n",
      "Epoch [23], Loss: 0.001105658\n",
      "Epoch [24], Loss: 0.001593033\n",
      "Epoch [25], Loss: 0.001167431\n",
      "Epoch [26], Loss: 0.000650344\n",
      "Epoch [27], Loss: 0.000582859\n",
      "Epoch [28], Loss: 0.001306464\n",
      "Epoch [29], Loss: 0.000472799\n",
      "Epoch [30], Loss: 0.000440123\n",
      "Epoch [31], Loss: 0.000383508\n",
      "Epoch [32], Loss: 0.000727932\n",
      "Epoch [33], Loss: 0.000489630\n",
      "Epoch [34], Loss: 0.000189888\n",
      "Epoch [35], Loss: 0.000229334\n",
      "Epoch [36], Loss: 0.000392651\n",
      "Epoch [37], Loss: 0.000889317\n",
      "Epoch [38], Loss: 0.000253431\n",
      "Epoch [39], Loss: 0.000281579\n",
      "Epoch [40], Loss: 0.000099979\n",
      "Epoch [41], Loss: 0.000399592\n",
      "Epoch [42], Loss: 0.000166967\n",
      "Epoch [43], Loss: 0.000322112\n",
      "Epoch [44], Loss: 0.000177171\n",
      "Epoch [45], Loss: 0.000167992\n",
      "Epoch [46], Loss: 0.000080744\n",
      "Epoch [47], Loss: 0.000160599\n",
      "Epoch [48], Loss: 0.000098628\n",
      "Epoch [49], Loss: 0.000052500\n",
      "Epoch [50], Loss: 0.000186157\n"
     ]
    },
    {
     "data": {
      "image/png": "[encoded data removed]",
      "text/plain": [
       "<Figure size 640x480 with 1 Axes>"
      ]
     },
     "metadata": {},
     "output_type": "display_data"
    }
   ],
   "source": [
    "nb_epochs = 50\n",
    "losses = []\n",
    "# Before training\n",
    "#set_seed(42)\n",
    "model.train()\n",
    "for i in range(nb_epochs):\n",
    "    for X_batch, Y_batch in loader:\n",
    "\n",
    "        # Physics loss\n",
    "        res = pde_residual(model, X_batch)\n",
    "        loss_physics = torch.mean(res**2)\n",
    "\n",
    "        # MSE loss\n",
    "        outputs = model(X_batch)\n",
    "        loss_mse = criterion(outputs, Y_batch) \n",
    "\n",
    "        # final loss\n",
    "        loss = loss_mse + loss_physics\n",
    "\n",
    "        optimizer.zero_grad()\n",
    "        loss.backward()\n",
    "        optimizer.step()\n",
    "        \n",
    "        losses.append(loss.item())\n",
    "\n",
    "\n",
    "    print(f'Epoch [{i+ 1}], Loss: {loss.item():.9f}')\n",
    "\n",
    "# Plot the loss curve\n",
    "plt.plot(losses)\n",
    "plt.xlabel('Epoch')\n",
    "plt.ylabel('Loss')\n",
    "plt.title('Training Loss')\n",
    "plt.show()\n",
    "   "
   ]
  },
  {
   "cell_type": "code",
   "execution_count": 89,
   "id": "3691c48d",
   "metadata": {},
   "outputs": [
    {
     "name": "stdout",
     "output_type": "stream",
     "text": [
      "Evaluation Loss: 0.000\n",
      "Inverse Predictions: \n",
      " [[0.0938776 ]\n",
      " [0.61272365]\n",
      " [1.1331558 ]\n",
      " ...\n",
      " [8.953149  ]\n",
      " [9.46157   ]\n",
      " [9.983809  ]]\n"
     ]
    }
   ],
   "source": [
    "model.eval()\n",
    "\n",
    "# No gradient calculation during evaluation\n",
    "with torch.no_grad():\n",
    "    # Forward pass\n",
    "    predictions = model(X_tensor)  # Assuming X_tensor is your input data\n",
    "\n",
    "    # Calculate the loss (optional)\n",
    "    loss = criterion(predictions, Y_tensor)\n",
    "    print(f\"Evaluation Loss: {loss.item():.3f}\")\n",
    "\n",
    "    predictions_original = scaler_y.inverse_transform(predictions.numpy())\n",
    "\n",
    "    # Print the inverse transformed predictions\n",
    "    print(\"Inverse Predictions: \\n\", predictions_original)"
   ]
  },
  {
   "cell_type": "code",
   "execution_count": 90,
   "id": "fbeef19f",
   "metadata": {},
   "outputs": [
    {
     "data": {
      "image/png": "[encoded data removed]",
      "text/plain": [
       "<Figure size 640x480 with 1 Axes>"
      ]
     },
     "metadata": {},
     "output_type": "display_data"
    }
   ],
   "source": [
    "plt.title(\"Training and predicting (with normalised data)\")\n",
    "plt.plot(X_tensor[:,2], Y_tensor[:,0], label = \"True V_out\")\n",
    "plt.xlabel(\"U input\")\n",
    "plt.ylabel(\"U output\", rotation = 0, labelpad=30)\n",
    "plt.plot(X_tensor[:,2], predictions[:,0], label = \"Predicted V_out\", color='red', linestyle='None', marker='o', markersize=5)\n",
    "plt.legend()\n",
    "\n",
    "\n",
    "plt.show()"
   ]
  },
  {
   "cell_type": "code",
   "execution_count": 91,
   "id": "0bbb06b6",
   "metadata": {},
   "outputs": [
    {
     "name": "stdout",
     "output_type": "stream",
     "text": [
      "Model's state_dict:\n",
      "fc1.weight \t torch.Size([8, 3])\n",
      "fc1.bias \t torch.Size([8])\n",
      "fc2.weight \t torch.Size([16, 8])\n",
      "fc2.bias \t torch.Size([16])\n",
      "fc3.weight \t torch.Size([64, 16])\n",
      "fc3.bias \t torch.Size([64])\n",
      "fc4.weight \t torch.Size([32, 64])\n",
      "fc4.bias \t torch.Size([32])\n",
      "fc5.weight \t torch.Size([8, 32])\n",
      "fc5.bias \t torch.Size([8])\n",
      "fc6.weight \t torch.Size([1, 8])\n",
      "fc6.bias \t torch.Size([1])\n"
     ]
    },
    {
     "data": {
      "text/plain": [
       "'print(\"Optimizer\\'s state_dict:\")\\nfor var_name in optimizer.state_dict():\\n    print(var_name, \"\\t\", optimizer.state_dict()[var_name])'"
      ]
     },
     "execution_count": 91,
     "metadata": {},
     "output_type": "execute_result"
    }
   ],
   "source": [
    "# Print model's state_dict\n",
    "print(\"Model's state_dict:\")\n",
    "for param_tensor in model.state_dict():\n",
    "    print(param_tensor, \"\\t\", model.state_dict()[param_tensor].size())\n",
    "\n",
    "# Print optimizer's state_dict\n",
    "\"\"\"print(\"Optimizer's state_dict:\")\n",
    "for var_name in optimizer.state_dict():\n",
    "    print(var_name, \"\\t\", optimizer.state_dict()[var_name])\"\"\"\n",
    "\n"
   ]
  },
  {
   "cell_type": "code",
   "execution_count": 92,
   "id": "2b529b76",
   "metadata": {},
   "outputs": [
    {
     "name": "stdout",
     "output_type": "stream",
     "text": [
      "Evaluation Loss: 0.000\n"
     ]
    }
   ],
   "source": [
    "# Defining model name and save the model\n",
    "\n",
    "name = \"My_model\"    # À changer selon l'utilisateur\n",
    "torch.save(model.state_dict(), name)\n",
    "\n",
    "# Load the saved model and evaluate\n",
    "\n",
    "my_model = RegressionModel(in_features, out_features)\n",
    "my_model.load_state_dict(torch.load(name, weights_only=True))\n",
    "my_model.eval()\n",
    "\n",
    "\n",
    "with torch.no_grad():\n",
    "    # Forward pass\n",
    "    predictions = my_model(X_tensor)  \n",
    "\n",
    "    # Calculate the loss (optional)\n",
    "    loss = criterion(predictions, Y_tensor)\n",
    "    print(f\"Evaluation Loss: {loss.item():.3f}\")"
   ]
  }
 ],
 "metadata": {
  "kernelspec": {
   "display_name": "base",
   "language": "python",
   "name": "python3"
  },
  "language_info": {
   "codemirror_mode": {
    "name": "ipython",
    "version": 3
   },
   "file_extension": ".py",
   "mimetype": "text/x-python",
   "name": "python",
   "nbconvert_exporter": "python",
   "pygments_lexer": "ipython3",
   "version": "3.10.13"
  }
 },
 "nbformat": 4,
 "nbformat_minor": 5
}
